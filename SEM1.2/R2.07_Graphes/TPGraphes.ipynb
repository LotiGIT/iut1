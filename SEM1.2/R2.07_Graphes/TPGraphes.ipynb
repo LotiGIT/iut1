{
 "cells": [
  {
   "cell_type": "markdown",
   "id": "190f008d-ccbc-48c0-b9cf-c00833a08f5e",
   "metadata": {
    "nbgrader": {
     "grade": false,
     "grade_id": "cell-de593d3bda61a942",
     "locked": true,
     "schema_version": 3,
     "solution": false,
     "task": false
    }
   },
   "source": [
    "# <p style=\"text-align: center;\"> TP noté R2.07 <br> Quelques algorithmes sur les graphes\n",
    "</p>"
   ]
  },
  {
   "cell_type": "markdown",
   "id": "1b6a1f0f-ef90-4a83-9e8f-65e93c7771fa",
   "metadata": {
    "nbgrader": {
     "grade": false,
     "grade_id": "cell-c8b8bc5fa7d8929e",
     "locked": true,
     "schema_version": 3,
     "solution": false,
     "task": false
    }
   },
   "source": [
    "## <span style=\"color:red\">  **Consignes générales :** </span>\n",
    "1. Lire attentivement le sujet\n",
    "2. les structures de données ainsi que  les entrées et sorties des méthodes demandées (et leur type) sont **imposées**. Il ne faut pas les modifier.\n",
    "3. Pour qu'une cellule de code soit prise en compte elle doit êtr\n",
    "4. e executée.\n",
    "5. Si vous faites une modification dans une cellule, il faut \"l'executer\" pour qu'elle soit prise en compte.\n",
    "6. Des tests de validation de certaines méthodes sont proposés, il est nécessaire de les passer mais pas suffisant !\n",
    "7. Vous pouvez utiliser, en les adaptant,  les  méthodes obtenues durant les séances de tp. \n"
   ]
  },
  {
   "cell_type": "code",
   "execution_count": 72,
   "id": "9ceccce0-d3d2-4132-aa82-825387dd8b33",
   "metadata": {
    "nbgrader": {
     "grade": false,
     "grade_id": "cell-3e65df9d42572e18",
     "locked": true,
     "schema_version": 3,
     "solution": false,
     "task": false
    }
   },
   "outputs": [],
   "source": [
    "from collections import deque\n",
    "import random\n",
    "import copy\n",
    "g1 = {\"A\" :{\"C\"},\n",
    "           \"B\" : {\"C\", \"E\"},\n",
    "           \"C\" : {\"A\", \"B\", \"D\", \"E\"},\n",
    "           \"D\" : {\"C\"},\n",
    "           \"E\" : {\"C\", \"B\"},\n",
    "           \"F\" : set()\n",
    "         }\n",
    "g2 ={\"A\" : set()}\n",
    "g3 = {\n",
    "\"A\":{\"B\":3,\"C\":4, \"D\":7},\n",
    "\"B\":{\"C\":1,\"F\":5},\n",
    "\"C\":{\"F\":6,\"D\":2},\n",
    "\"D\":{\"E\":3, \"G\":6},\n",
    "\"E\":{\"G\":3, \"H\":4},\n",
    "\"F\":{\"E\":1, \"H\":8},\n",
    "\"G\":{\"H\":2},\n",
    "\"H\":{\"G\":2}\n",
    "}\n",
    "g4 = {\n",
    "    \"A\": {\"B\" :3},\n",
    "    \"B\": {\"C\":1, \"F\":4},\n",
    "    \"C\": {\"D\":6, \"E\":2},\n",
    "    \"D\": dict(),\n",
    "    \"E\": {\"F\":4},\n",
    "    \"F\": dict()\n",
    "}"
   ]
  },
  {
   "cell_type": "code",
   "execution_count": 34,
   "id": "0bae932b-3a5c-4def-bc81-9584860f7871",
   "metadata": {
    "nbgrader": {
     "grade": false,
     "grade_id": "cell-a0578e6d404363fa",
     "locked": true,
     "schema_version": 3,
     "solution": false,
     "task": false
    }
   },
   "outputs": [],
   "source": [
    "class Graphe(object):\n",
    "    \n",
    "    def __init__(self, graphe_dict=None):\n",
    "        \"\"\" initialise un objet graphe.\n",
    "\t    Si aucun dictionnaire n'est\n",
    "\t    créé ou donné, on en utilisera un \n",
    "\t    vide\n",
    "        \"\"\"\n",
    "        if graphe_dict == None:\n",
    "            graphe_dict = dict()\n",
    "        self._graphe_dict = graphe_dict\n",
    "\n",
    "    def aretes(self, sommet):\n",
    "        \"\"\" retourne une liste de toutes les aretes d'un sommet\"\"\"\n",
    "        return self._graphe_dict[sommet]\n",
    "\n",
    "    def all_sommets(self):\n",
    "        \"\"\" retourne tous les sommets du graphe \"\"\"\n",
    "        return set(self._graphe_dict.keys())\n",
    "\n",
    "    def all_aretes(self):\n",
    "        \"\"\" retourne toutes les aretes du graphe \"\"\"\n",
    "        return self.__list_aretes()\n",
    "\n",
    "    def add_sommet(self, sommet):\n",
    "        \"\"\" Si le \"sommet\" n'set pas déjà présent\n",
    "\tdans le graphe, on rajoute au dictionnaire \n",
    "\tune clé \"sommet\" avec une liste vide pour valeur. \n",
    "\tSinon on ne fait rien.\n",
    "        \"\"\"\n",
    "        if sommet not in self._graphe_dict:\n",
    "            self._graphe_dict[sommet] = []\n",
    "\n",
    "    def add_arete(self, arete):\n",
    "        \"\"\" l'arete est de  type set, tuple ou list;\n",
    "            Entre deux sommets il peut y avoir plus\n",
    "\t    d'une arete (multi-graphe)\n",
    "        \"\"\"\n",
    "        arete = set(arete)\n",
    "        arete1, arete2 = tuple(arete)\n",
    "        for x, y in [(arete1, arete2), (arete2, arete1)]:\n",
    "            if x in self._graphe_dict:\n",
    "                self._graphe_dict[x].add(y)\n",
    "            else:\n",
    "                self._graphe_dict[x] = {y}\n",
    "\n",
    "    def __list_aretes(self):\n",
    "        \"\"\" Methode privée pour récupérer les aretes. \n",
    "\t    Une arete est un ensemble (set)\n",
    "            avec un (boucle) ou deux sommets.\n",
    "        \"\"\"\n",
    "        aretes = []\n",
    "        for sommet in self._graphe_dict:\n",
    "            for voisin in self._graphe_dict[sommet]:\n",
    "                if ({voisin, sommet})  not in aretes:\n",
    "                    aretes.append({sommet, voisin})\n",
    "        return aretes\n",
    "    \n",
    "    def __iter__(self):\n",
    "        self._iter_obj = iter(self._graphe_dict)\n",
    "        return self._iter_obj\n",
    "\n",
    "    def __next__(self):\n",
    "        \"\"\" Pour itérer sur les sommets du graphe \"\"\"\n",
    "        return next(self._iter_obj)\n",
    "\n",
    "    def __str__(self):\n",
    "        res = \"sommets: \"\n",
    "        for k in self._graphe_dict.keys():\n",
    "            res += str(k) + \" \"\n",
    "        res += \"\\naretes: \"\n",
    "        for arete in self.__list_aretes():\n",
    "            res += str(arete) + \" \"\n",
    "        return res"
   ]
  },
  {
   "cell_type": "markdown",
   "id": "b21e3182-a0bc-4852-8383-5f8c7984cd5f",
   "metadata": {
    "nbgrader": {
     "grade": false,
     "grade_id": "cell-404c88f8494b704a",
     "locked": true,
     "schema_version": 3,
     "solution": false,
     "task": false
    }
   },
   "source": [
    "## Ecrire la méthode estcyclique, décrite dans l'algorithme ci dessous, qui permet de vérifier si un graphe est **acyclique**.\n"
   ]
  },
  {
   "cell_type": "markdown",
   "id": "874a1234-e26f-4496-953d-42be68cddcaa",
   "metadata": {},
   "source": [
    "![Cycle](AlgoCyclique.png)"
   ]
  },
  {
   "cell_type": "markdown",
   "id": "dd5dcaa4-44b6-4cb0-a80c-cffbae024cad",
   "metadata": {},
   "source": [
    "Si le sommet passé en paramètre n'existe pas, on renvoie une exception. On utlisera la méthode \"raise\" et  ValueError()."
   ]
  },
  {
   "cell_type": "code",
   "execution_count": 35,
   "id": "b4d11c60-ec75-46f4-9bd2-e3e889e5df6c",
   "metadata": {
    "nbgrader": {
     "grade": false,
     "grade_id": "cell-9700bf7fa8adb695",
     "locked": false,
     "schema_version": 3,
     "solution": true,
     "task": false
    }
   },
   "outputs": [],
   "source": [
    "class Graphe2(Graphe):\n",
    "    def estcyclique(self,s=None,TAG=[]):\n",
    "        \"\"\" s est un sommet quelconque, donné par l'utilisateur \n",
    "        ou choisi aléatoirement parmi la liste des sommets du graphe\n",
    "        \"\"\"\n",
    "        \n",
    "        return C"
   ]
  },
  {
   "cell_type": "code",
   "execution_count": 36,
   "id": "f14fa28e-0ea2-4364-8a13-a646ab526730",
   "metadata": {
    "nbgrader": {
     "grade": false,
     "grade_id": "cell-2ec9b7761df82a11",
     "locked": false,
     "points": 2,
     "schema_version": 3,
     "solution": false,
     "task": false
    }
   },
   "outputs": [],
   "source": [
    "\"\"\"Vérifiez vos résultats sur les tests suivants\"\"\"\n",
    "G=Graphe2(g1)\n",
    "assert G.estcyclique(\"A\") == \"Il y a un cycle\"\n",
    "assert G.estcyclique(\"E\") == \"Il y a un cycle\"\n"
   ]
  },
  {
   "cell_type": "code",
   "execution_count": 37,
   "id": "045d30a4-dd07-4f68-b472-e13487295757",
   "metadata": {
    "nbgrader": {
     "grade": true,
     "grade_id": "cell-065a64a25b12eb9c",
     "locked": true,
     "points": 1,
     "schema_version": 3,
     "solution": false,
     "task": false
    }
   },
   "outputs": [],
   "source": [
    "\"\"\"Vérifiez les entrées\"\"\"\n",
    "try:\n",
    "    G.estcyclique(\"Z\") \n",
    "except ValueError:\n",
    "    pass\n",
    "else:\n",
    "    raise AssertionError(\"n'a pas retourné d'erreur\")"
   ]
  },
  {
   "cell_type": "markdown",
   "id": "db4b6fbb-7895-4e83-8b30-1a0089a98092",
   "metadata": {
    "nbgrader": {
     "grade": false,
     "grade_id": "cell-21d817fa80738c74",
     "locked": true,
     "schema_version": 3,
     "solution": false,
     "task": false
    }
   },
   "source": [
    "## Ecrire la méthode estconnexe, décrite ci-dessous, et qui permet de tester si un graphe est connexe"
   ]
  },
  {
   "cell_type": "markdown",
   "id": "2d243d72-1df7-481f-8f0a-0daf582ff127",
   "metadata": {
    "nbgrader": {
     "grade": false,
     "grade_id": "cell-ba550e0e9e6f1db3",
     "locked": true,
     "schema_version": 3,
     "solution": false,
     "task": false
    }
   },
   "source": [
    "![Connexe](grapheconnexe.png)"
   ]
  },
  {
   "cell_type": "code",
   "execution_count": 38,
   "id": "bf705e48-41d6-41ab-bef5-9db9df2acb7a",
   "metadata": {
    "nbgrader": {
     "grade": false,
     "grade_id": "cell-4248824b00cbc543",
     "locked": false,
     "schema_version": 3,
     "solution": true,
     "task": false
    },
    "scrolled": true
   },
   "outputs": [],
   "source": [
    "class Graphe2(Graphe2):\n",
    "    def estconnexe(self,s):\n",
    "        \"\"\" s est un sommet quelconque, donné par l'utilisateur \n",
    "        Il faudra renvoyer une exception si le sommet n'existe pas\n",
    "        \"\"\"\n",
    "        \n",
    "        return \"faux\""
   ]
  },
  {
   "cell_type": "code",
   "execution_count": 39,
   "id": "0c2cce9a-f17e-4620-b3db-2624e9ec2bb1",
   "metadata": {
    "nbgrader": {
     "grade": true,
     "grade_id": "cell-911ea2a527ab4f07",
     "locked": true,
     "points": 1,
     "schema_version": 3,
     "solution": false,
     "task": false
    }
   },
   "outputs": [],
   "source": [
    "\"\"\"Vérifiez vos résultats sur les tests suivants\"\"\"\n",
    "G=Graphe2(g1)\n",
    "assert G.estconnexe(\"A\") == \"faux\"\n",
    "assert G.estconnexe(\"E\") == \"faux\"\n"
   ]
  },
  {
   "cell_type": "markdown",
   "id": "68201faa-b304-41a5-95a8-053ed8507e8e",
   "metadata": {
    "nbgrader": {
     "grade": false,
     "grade_id": "cell-94c908dcd464e05b",
     "locked": true,
     "schema_version": 3,
     "solution": false,
     "task": false
    }
   },
   "source": [
    "## Modifier la méthode **estconnexe** pour qu'elle retourne \"vrai\" si le graphe est connexe et,  sinon, le tuple (\"faux\",n) où n est le nombre de composantes connexes du graphe."
   ]
  },
  {
   "cell_type": "code",
   "execution_count": 61,
   "id": "eb7b659f-0141-4e42-863d-6f67a555ff2e",
   "metadata": {
    "nbgrader": {
     "grade": false,
     "grade_id": "cell-2e03fc6b59e99f40",
     "locked": false,
     "schema_version": 3,
     "solution": true,
     "task": false
    }
   },
   "outputs": [],
   "source": [
    "class Graphe2(Graphe2):\n",
    "    def estconnexe2(self,s):\n",
    "        \"\"\" s est un sommet quelconque, donné par l'utilisateur \n",
    "        Il faudra renvoyer une exception si le sommet n'existe pas\n",
    "        \"\"\"\n",
    "      \n",
    "        return (\"faux\",n)"
   ]
  },
  {
   "cell_type": "code",
   "execution_count": 62,
   "id": "ffcbe4f9-f291-409a-98ab-a120a70efdb8",
   "metadata": {
    "nbgrader": {
     "grade": true,
     "grade_id": "cell-dfe93da380f98b32",
     "locked": true,
     "points": 0,
     "schema_version": 3,
     "solution": false,
     "task": false
    }
   },
   "outputs": [],
   "source": [
    "\"\"\"Vérifiez vos résultats sur les tests suivants\"\"\"\n",
    "G=Graphe2(g1)\n",
    "assert G.estconnexe2(\"A\") == (\"faux\",2)\n",
    "assert G.estconnexe2(\"C\") == (\"faux\",2)\n"
   ]
  },
  {
   "cell_type": "markdown",
   "id": "590eb23d",
   "metadata": {},
   "source": [
    "## Modifier la méthode précédente pour qu\"elle pour qu'elle retourne \"vrai\" si le graphe est connexe et,  sinon, <br> le tuple ((\"faux\",n), L) où n est le nombre de composantes connexes du graphe et L une liste des composantes connexes (une liste de listes donc)."
   ]
  },
  {
   "cell_type": "code",
   "execution_count": null,
   "id": "2d96aa46",
   "metadata": {},
   "outputs": [],
   "source": [
    "class Graphe2(Graphe2):\n",
    "    def estconnexe3(self,s):\n",
    "        \"\"\" s est un sommet quelconque, donné par l'utilisateur \n",
    "        Il faudra renvoyer une exception si le sommet n'existe pas\n",
    "        L=[[]]\n",
    "        \"\"\"\n",
    "      \n",
    "        return ((\"faux\",n), L)"
   ]
  },
  {
   "cell_type": "code",
   "execution_count": null,
   "id": "6d927244",
   "metadata": {},
   "outputs": [],
   "source": [
    "\"\"\"Vérifiez vos résultats sur les tests suivants\"\"\"\n",
    "G=Graphe2(g1)\n",
    "assert G.estconnexe2(\"A\") == ((\"faux\",2), [[\"A\",\"B\",\"C\",\"D\",\"E\"],[\"F\"]])\n",
    "assert G.estconnexe2(\"C\") == ((\"faux\",2), [[\"A\",\"B\",\"C\",\"D\",\"E\"],[\"F\"]])"
   ]
  },
  {
   "cell_type": "markdown",
   "id": "4c6c649c-c760-407f-9e15-5a4565540c63",
   "metadata": {},
   "source": [
    "## Dikjstra, plus long chemin"
   ]
  },
  {
   "cell_type": "markdown",
   "id": "985ea503-a88f-4151-b7f7-0811efb9a3fc",
   "metadata": {
    "nbgrader": {
     "grade": false,
     "grade_id": "cell-cddd8dd32efbfc3e",
     "locked": true,
     "schema_version": 3,
     "solution": false,
     "task": false
    }
   },
   "source": [
    "On souhaite ecrire une méthode qui renvoie le plus long chemin à partir d'un sommet donné.<br>\n",
    "Pour cela on adaptera l'algorithme de Dikjstra pour des graphes  particuliers : **les graphes orientés acycliques pondérés positivement** "
   ]
  },
  {
   "cell_type": "markdown",
   "id": "936dbaee-76d8-4b57-93ff-c34668e7cb3a",
   "metadata": {
    "nbgrader": {
     "grade": false,
     "grade_id": "cell-c3c404fcf9f9687e",
     "locked": true,
     "schema_version": 3,
     "solution": false,
     "task": false
    }
   },
   "source": [
    "## Ecrire, dans un premier temps, la méthode ci-dessous qui met en oeuvre l'algorithme de Dijkstra classique (D est le tableau des distances et P le dictionnaire des parents, comme vu en tp)."
   ]
  },
  {
   "cell_type": "code",
   "execution_count": 63,
   "id": "2fe3f525-9633-4bd6-9296-ebd49de9d9ea",
   "metadata": {
    "nbgrader": {
     "grade": false,
     "grade_id": "cell-b992084d0ba8f7f3",
     "locked": false,
     "schema_version": 3,
     "solution": true,
     "task": false
    }
   },
   "outputs": [],
   "source": [
    "class Graphe2(Graphe2):\n",
    "    def dijkstra(self,s):\n",
    "      \n",
    "    return D,P"
   ]
  },
  {
   "cell_type": "markdown",
   "id": "cef6ff37-39c2-46d3-b40b-1edf321d0ff4",
   "metadata": {
    "nbgrader": {
     "grade": false,
     "grade_id": "cell-7f5ff067c9fcf52b",
     "locked": true,
     "schema_version": 3,
     "solution": false,
     "task": false
    }
   },
   "source": [
    "## Ecire la méthode ci dessous qui permet de donner le plus court chemin entre deux sommets, s et d, donnés.<br>Le chemin sera donné sous forme d'une liste dans le bon ordre."
   ]
  },
  {
   "cell_type": "code",
   "execution_count": 133,
   "id": "3c56bdc3-478f-484a-80fb-307384303062",
   "metadata": {
    "nbgrader": {
     "grade": false,
     "grade_id": "cell-0d85dbb2a97e06ea",
     "locked": false,
     "schema_version": 3,
     "solution": true,
     "task": false
    }
   },
   "outputs": [],
   "source": [
    "class Graphe2(Graphe2):\n",
    "    def chemindijkstra(self,s,d):\n",
    "        \"\"\" Cette méthode retourne \"pas de chemin\" ou un tuple contenant\n",
    "        le plus court chemin entre s et d sous forme d'une liste, L, dans le bon ordre\n",
    "        ainsi que la longueur,l, du chemin trouvé. Le chemin d'un sommet \n",
    "        à lui mêeme est de longueur nulle\n",
    "        Comme précédemment, on gèrera une exception si s ou d n'appartiennent pas au graphe \n",
    "        \"\"\"\n",
    "        \n",
    "        return (L,l)"
   ]
  },
  {
   "cell_type": "code",
   "execution_count": 134,
   "id": "0acc662d-fd39-4862-a959-2e8acca35f2d",
   "metadata": {
    "nbgrader": {
     "grade": true,
     "grade_id": "cell-c530f17ffb5400d9",
     "locked": true,
     "points": 3,
     "schema_version": 3,
     "solution": false,
     "task": false
    }
   },
   "outputs": [],
   "source": [
    "\"\"\"Vérifiez vos résultats sur les tests suivants\"\"\"\n",
    "G3=Graphe2(g3)\n",
    "assert G3.chemindijkstra(\"A\",\"E\") == ([\"A\",\"C\",\"D\",\"E\"],9)\n",
    "assert G3.chemindijkstra(\"E\",\"E\") == ([\"E\"],0)\n"
   ]
  },
  {
   "cell_type": "markdown",
   "id": "21f87fa5-c395-4ff7-bfbb-8548ffd993e8",
   "metadata": {
    "nbgrader": {
     "grade": false,
     "grade_id": "cell-66c1d155348145cd",
     "locked": true,
     "schema_version": 3,
     "solution": false,
     "task": false
    }
   },
   "source": [
    "On souhaite dans cette partie adapter l'algorithme de Dijkstra pour trouver le plus long chemin entre deux sommets d'un graphe valué orienté.\n",
    "Pour cela :\n",
    "1. Si le graphe est acyclique et pondéré positivement sinon on retourne \"impossible\"\n",
    "2. Sinon, on utilise l'algorithme de Dijkstra sur le graphe mais en changeant toutes les pondérations en leurs opposées.\n",
    "3. On retournera alors deux tuples : $(L_1,l_1)$ et $(L_2,l_2)$ où $L_1, L_2, l_1$ et $l_2$ sont respectivement les listes correspondant  au plus court, plus long chemin  (dans le bon ordre) et les longueurs de ces deux chemins\n",
    "4. Comme précédemment si un des sommets n'existe pas on générera une exception. "
   ]
  },
  {
   "cell_type": "code",
   "execution_count": 161,
   "id": "b87080f8-591f-41d3-a96b-f59395a97c78",
   "metadata": {
    "nbgrader": {
     "grade": false,
     "grade_id": "cell-ce7d928e5bce5ed1",
     "locked": false,
     "schema_version": 3,
     "solution": true,
     "task": false
    }
   },
   "outputs": [],
   "source": [
    "class Graphe2(Graphe2):\n",
    "    def cheminsPLC(self,s,d):\n",
    "        \"\"\" Cette méthode retourne \"impossible\" (si il y a un cycle ou si il y a une pondération négative),\n",
    "        \"pas de chemin\" ou deux tuples contenant\n",
    "        le plus court chemin entre s et d sous forme d'une liste, L1, dans le bon ordre\n",
    "        ainsi que la longueur,l1, du chemin trouvé, le plus long chemin entre s et d sous forme d'une liste, \n",
    "        L2, dans le bon ordre ainsi que la longueur,l2, du chemin trouvé, Le chemin d'un sommet \n",
    "        à lui mêeme est de longueur nulle\n",
    "        Comme précédemment, on gèrera une exception si s ou d n'appartiennent pas au graphe \n",
    "        \"\"\"\n",
    " \n",
    "       \n",
    "     \n",
    "        return (L1,l1), (L2,l2)"
   ]
  }
 ],
 "metadata": {
  "kernelspec": {
   "display_name": "Python 3 (ipykernel)",
   "language": "python",
   "name": "python3"
  },
  "language_info": {
   "codemirror_mode": {
    "name": "ipython",
    "version": 3
   },
   "file_extension": ".py",
   "mimetype": "text/x-python",
   "name": "python",
   "nbconvert_exporter": "python",
   "pygments_lexer": "ipython3",
   "version": "3.10.12"
  }
 },
 "nbformat": 4,
 "nbformat_minor": 5
}
